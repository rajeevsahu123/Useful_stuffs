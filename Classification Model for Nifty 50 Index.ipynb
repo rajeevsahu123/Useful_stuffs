{
 "cells": [
  {
   "cell_type": "markdown",
   "metadata": {},
   "source": [
    "## Written by rajeev"
   ]
  },
  {
   "cell_type": "code",
   "execution_count": 1,
   "metadata": {},
   "outputs": [
    {
     "name": "stdout",
     "output_type": "stream",
     "text": [
      "Populating the interactive namespace from numpy and matplotlib\n"
     ]
    }
   ],
   "source": [
    "import numpy as np\n",
    "import pandas as pd\n",
    "import matplotlib.pyplot as plt\n",
    "import talib as tb\n",
    "%pylab inline"
   ]
  },
  {
   "cell_type": "code",
   "execution_count": 4,
   "metadata": {
    "collapsed": true
   },
   "outputs": [],
   "source": [
    "import pandas_datareader.data as web\n",
    "import datetime\n",
    "end = datetime.datetime.now()\n",
    "begin = end - pd.DateOffset(365*5)\n",
    "st=begin.strftime('%Y-%m-%d')\n",
    "ed=end.strftime('%Y-%m-%d')\n",
    "df = web.get_data_yahoo(\"^NSEI\",st,ed)"
   ]
  },
  {
   "cell_type": "code",
   "execution_count": 10,
   "metadata": {},
   "outputs": [
    {
     "data": {
      "text/plain": [
       "(1222, 6)"
      ]
     },
     "execution_count": 10,
     "metadata": {},
     "output_type": "execute_result"
    }
   ],
   "source": [
    "df.shape"
   ]
  },
  {
   "cell_type": "code",
   "execution_count": 36,
   "metadata": {
    "collapsed": true
   },
   "outputs": [],
   "source": [
    "df = df.dropna()\n",
    "df = df[df['Volume'] !=0]"
   ]
  },
  {
   "cell_type": "code",
   "execution_count": 37,
   "metadata": {
    "collapsed": true
   },
   "outputs": [],
   "source": [
    "df['Year'] = df.index[:].strftime('%Y') "
   ]
  },
  {
   "cell_type": "code",
   "execution_count": 64,
   "metadata": {
    "collapsed": true
   },
   "outputs": [],
   "source": [
    "# To capture Momentum\n",
    "df['RSI'] = tb.RSI(np.array(df['Close']), timeperiod=14)"
   ]
  },
  {
   "cell_type": "code",
   "execution_count": 65,
   "metadata": {
    "collapsed": true
   },
   "outputs": [],
   "source": [
    "# To capture Volatility\n",
    "df['ATR'] =tb.ATR(np.array(df['High']), np.array(df['Low']), np.array(df['Close']), timeperiod=14)"
   ]
  },
  {
   "cell_type": "code",
   "execution_count": 66,
   "metadata": {
    "collapsed": true
   },
   "outputs": [],
   "source": [
    "# To capture the long term, Mid term and short term trend\n",
    "df['EMA5'] = tb.EMA(np.array(df['Close']), timeperiod=5)\n",
    "df['EMA15'] = tb.EMA(np.array(df['Close']), timeperiod=15)\n",
    "df['EMA30'] = tb.EMA(np.array(df['Close']), timeperiod=30)\n",
    "df['EMA50'] = tb.EMA(np.array(df['Close']), timeperiod=50)"
   ]
  },
  {
   "cell_type": "code",
   "execution_count": 67,
   "metadata": {},
   "outputs": [
    {
     "data": {
      "text/plain": [
       "<matplotlib.axes._subplots.AxesSubplot at 0xb94be10>"
      ]
     },
     "execution_count": 67,
     "metadata": {},
     "output_type": "execute_result"
    },
    {
     "data": {
      "image/png": "[encoded data removed]",
      "text/plain": [
       "<matplotlib.figure.Figure at 0xb8880f0>"
      ]
     },
     "metadata": {},
     "output_type": "display_data"
    }
   ],
   "source": [
    "df.loc[:, ('EMA5', 'EMA15', 'EMA30', 'EMA50')].plot()"
   ]
  },
  {
   "cell_type": "markdown",
   "metadata": {},
   "source": [
    "## Splitting the Data into train and test"
   ]
  },
  {
   "cell_type": "code",
   "execution_count": 85,
   "metadata": {
    "collapsed": true
   },
   "outputs": [],
   "source": [
    "dftrain = df[(df['Year'] == '2013') | (df['Year'] == '2014') | (df['Year'] == '2015')]\n",
    "dftest = df[(df['Year'] == '2016') | (df['Year'] == '2017')]"
   ]
  },
  {
   "cell_type": "code",
   "execution_count": 89,
   "metadata": {
    "collapsed": true
   },
   "outputs": [],
   "source": [
    "dftrain1 = dftrain.drop(['Open', 'High', 'Low', 'Close', 'Adj Close', 'Year'], axis=1)\n",
    "dftest1 = dftest.drop(['Open', 'High', 'Low', 'Close', 'Adj Close', 'Year'], axis=1)"
   ]
  },
  {
   "cell_type": "code",
   "execution_count": 121,
   "metadata": {
    "collapsed": true
   },
   "outputs": [],
   "source": [
    "dftrain1 = dftrain1.dropna()"
   ]
  },
  {
   "cell_type": "code",
   "execution_count": 98,
   "metadata": {},
   "outputs": [
    {
     "data": {
      "text/plain": [
       "DatetimeIndex(['2013-04-02', '2013-04-03', '2013-04-04', '2013-04-05',\n",
       "               '2013-04-08', '2013-04-09', '2013-04-10', '2013-04-11',\n",
       "               '2013-04-12', '2013-04-15',\n",
       "               ...\n",
       "               '2015-12-17', '2015-12-18', '2015-12-21', '2015-12-22',\n",
       "               '2015-12-23', '2015-12-24', '2015-12-28', '2015-12-29',\n",
       "               '2015-12-30', '2015-12-31'],\n",
       "              dtype='datetime64[ns]', name=u'Date', length=670, freq=None)"
      ]
     },
     "execution_count": 98,
     "metadata": {},
     "output_type": "execute_result"
    }
   ],
   "source": [
    "dftrain1.index"
   ]
  },
  {
   "cell_type": "code",
   "execution_count": 99,
   "metadata": {
    "collapsed": true
   },
   "outputs": [],
   "source": [
    "df['Log_returns'] = np.log(df['Close']/ df['Close'].shift())"
   ]
  },
  {
   "cell_type": "code",
   "execution_count": 120,
   "metadata": {},
   "outputs": [
    {
     "name": "stderr",
     "output_type": "stream",
     "text": [
      "C:\\Users\\RAJEEV-PC\\Anaconda2\\lib\\site-packages\\ipykernel_launcher.py:2: SettingWithCopyWarning: \n",
      "A value is trying to be set on a copy of a slice from a DataFrame\n",
      "\n",
      "See the caveats in the documentation: http://pandas.pydata.org/pandas-docs/stable/indexing.html#indexing-view-versus-copy\n",
      "  \n",
      "C:\\Users\\RAJEEV-PC\\Anaconda2\\lib\\site-packages\\ipykernel_launcher.py:3: SettingWithCopyWarning: \n",
      "A value is trying to be set on a copy of a slice from a DataFrame\n",
      "\n",
      "See the caveats in the documentation: http://pandas.pydata.org/pandas-docs/stable/indexing.html#indexing-view-versus-copy\n",
      "  This is separate from the ipykernel package so we can avoid doing imports until\n"
     ]
    }
   ],
   "source": [
    "# Definition of Target Variable\n",
    "df['Target'] = 0\n",
    "df['Target'][df['Log_returns'] > 0.005] = 1\n",
    "df['Target'][df['Log_returns'] < -0.005] = -1"
   ]
  },
  {
   "cell_type": "code",
   "execution_count": 116,
   "metadata": {},
   "outputs": [
    {
     "data": {
      "text/plain": [
       " 0    607\n",
       " 1    321\n",
       "-1    270\n",
       "Name: Target, dtype: int64"
      ]
     },
     "execution_count": 116,
     "metadata": {},
     "output_type": "execute_result"
    }
   ],
   "source": [
    "df['Target'].value_counts()"
   ]
  },
  {
   "cell_type": "code",
   "execution_count": 124,
   "metadata": {
    "collapsed": true
   },
   "outputs": [],
   "source": [
    "dftrain_y = df['Target'][dftrain1.index]\n",
    "dftest_y = df['Target'][dftest1.index]"
   ]
  },
  {
   "cell_type": "code",
   "execution_count": 125,
   "metadata": {},
   "outputs": [
    {
     "data": {
      "text/plain": [
       "((670, 7), (479, 7), (670L,), (479L,))"
      ]
     },
     "execution_count": 125,
     "metadata": {},
     "output_type": "execute_result"
    }
   ],
   "source": [
    "dftrain1.shape, dftest1.shape, dftrain_y.shape, dftest_y.shape"
   ]
  },
  {
   "cell_type": "markdown",
   "metadata": {},
   "source": [
    "## Model Building"
   ]
  },
  {
   "cell_type": "code",
   "execution_count": 182,
   "metadata": {
    "collapsed": true
   },
   "outputs": [],
   "source": [
    "from sklearn.linear_model import LogisticRegression\n",
    "from sklearn.svm import SVC\n",
    "from sklearn.tree import DecisionTreeClassifier\n",
    "from sklearn.ensemble import RandomForestClassifier, AdaBoostClassifier\n",
    "from sklearn.metrics import accuracy_score, classification_report"
   ]
  },
  {
   "cell_type": "code",
   "execution_count": 127,
   "metadata": {
    "collapsed": true
   },
   "outputs": [],
   "source": [
    "# Logistic Regression Model\n",
    "lg = LogisticRegression().fit(dftrain1, dftrain_y)"
   ]
  },
  {
   "cell_type": "code",
   "execution_count": 137,
   "metadata": {},
   "outputs": [
    {
     "name": "stdout",
     "output_type": "stream",
     "text": [
      "Accuracy Score for train 0.54\n",
      "Accuracy Score for test 0.58\n",
      "Classification report for train\n",
      "             precision    recall  f1-score   support\n",
      "\n",
      "         -1       0.57      0.28      0.38       162\n",
      "          0       0.54      0.78      0.64       313\n",
      "          1       0.51      0.36      0.43       195\n",
      "\n",
      "avg / total       0.54      0.54      0.52       670\n",
      "\n",
      "Classification report for train\n",
      "             precision    recall  f1-score   support\n",
      "\n",
      "         -1       0.57      0.28      0.38       162\n",
      "          0       0.54      0.78      0.64       313\n",
      "          1       0.51      0.36      0.43       195\n",
      "\n",
      "avg / total       0.54      0.54      0.52       670\n",
      "\n"
     ]
    }
   ],
   "source": [
    "# Preformance Metrics of Logistic Regression Model\n",
    "print 'Accuracy Score for train {:.2f}'.format(accuracy_score(y_true=dftrain_y, y_pred=lg.predict(dftrain1)))\n",
    "print 'Accuracy Score for test {:.2f}'.format(accuracy_score(y_true=dftest_y, y_pred=lg.predict(dftest1)))\n",
    "print 'Classification report for train'\n",
    "print classification_report(dftrain_y, lg.predict(dftrain1))\n",
    "print 'Classification report for train'\n",
    "print classification_report(y_true=dftrain_y, y_pred=lg.predict(dftrain1))"
   ]
  },
  {
   "cell_type": "code",
   "execution_count": 214,
   "metadata": {
    "collapsed": true
   },
   "outputs": [],
   "source": [
    "# Support Vector Machine\n",
    "svm = SVC(kernel='rbf', C=0.65, gamma=0.20).fit(dftrain1, dftrain_y)"
   ]
  },
  {
   "cell_type": "code",
   "execution_count": 216,
   "metadata": {},
   "outputs": [
    {
     "name": "stdout",
     "output_type": "stream",
     "text": [
      "Accuracy Score for train 0.76\n",
      "Accuracy Score for test 0.56\n",
      "Classification report for train\n",
      "             precision    recall  f1-score   support\n",
      "\n",
      "         -1       0.00      0.00      0.00       162\n",
      "          0       0.66      1.00      0.79       313\n",
      "          1       1.00      1.00      1.00       195\n",
      "\n",
      "avg / total       0.60      0.76      0.66       670\n",
      "\n",
      "Classification report for train\n",
      "             precision    recall  f1-score   support\n",
      "\n",
      "         -1       0.00      0.00      0.00       162\n",
      "          0       0.66      1.00      0.79       313\n",
      "          1       1.00      1.00      1.00       195\n",
      "\n",
      "avg / total       0.60      0.76      0.66       670\n",
      "\n"
     ]
    }
   ],
   "source": [
    "# Performance Metrics of Support vector Machine\n",
    "print 'Accuracy Score for train {:.2f}'.format(accuracy_score(y_true=dftrain_y, y_pred=svm.predict(dftrain1)))\n",
    "print 'Accuracy Score for test {:.2f}'.format(accuracy_score(y_true=dftest_y, y_pred=svm.predict(dftest1)))\n",
    "print 'Classification report for train'\n",
    "print classification_report(dftrain_y, svm.predict(dftrain1))\n",
    "print 'Classification report for train'\n",
    "print classification_report(y_true=dftrain_y, y_pred=svm.predict(dftrain1))"
   ]
  },
  {
   "cell_type": "code",
   "execution_count": 153,
   "metadata": {
    "collapsed": true
   },
   "outputs": [],
   "source": [
    "# Decision Tree Model\n",
    "dt = DecisionTreeClassifier(max_depth=6, min_samples_leaf=10, min_samples_split=10).fit(dftrain1, dftrain_y)"
   ]
  },
  {
   "cell_type": "code",
   "execution_count": 154,
   "metadata": {},
   "outputs": [
    {
     "name": "stdout",
     "output_type": "stream",
     "text": [
      "Accuracy Score for train 0.59\n",
      "Accuracy Score for test 0.48\n",
      "Classification report for train\n",
      "             precision    recall  f1-score   support\n",
      "\n",
      "         -1       0.55      0.45      0.50       162\n",
      "          0       0.59      0.86      0.70       313\n",
      "          1       0.69      0.28      0.40       195\n",
      "\n",
      "avg / total       0.61      0.59      0.56       670\n",
      "\n",
      "Classification report for train\n",
      "             precision    recall  f1-score   support\n",
      "\n",
      "         -1       0.55      0.45      0.50       162\n",
      "          0       0.59      0.86      0.70       313\n",
      "          1       0.69      0.28      0.40       195\n",
      "\n",
      "avg / total       0.61      0.59      0.56       670\n",
      "\n"
     ]
    }
   ],
   "source": [
    "# Preformance Metrics of Decision Tree Model\n",
    "print 'Accuracy Score for train {:.2f}'.format(accuracy_score(y_true=dftrain_y, y_pred=dt.predict(dftrain1)))\n",
    "print 'Accuracy Score for test {:.2f}'.format(accuracy_score(y_true=dftest_y, y_pred=dt.predict(dftest1)))\n",
    "print 'Classification report for train'\n",
    "print classification_report(dftrain_y, dt.predict(dftrain1))\n",
    "print 'Classification report for train'\n",
    "print classification_report(y_true=dftrain_y, y_pred=dt.predict(dftrain1))"
   ]
  },
  {
   "cell_type": "code",
   "execution_count": 165,
   "metadata": {
    "collapsed": true
   },
   "outputs": [],
   "source": [
    "# Random Forest Model\n",
    "rf = RandomForestClassifier(n_estimators=50, max_depth=6, min_samples_split=6).fit(dftrain1, dftrain_y)"
   ]
  },
  {
   "cell_type": "code",
   "execution_count": 166,
   "metadata": {},
   "outputs": [
    {
     "name": "stdout",
     "output_type": "stream",
     "text": [
      "Accuracy Score for train 0.68\n",
      "Accuracy Score for test 0.59\n",
      "Classification report for train\n",
      "             precision    recall  f1-score   support\n",
      "\n",
      "         -1       0.82      0.52      0.64       162\n",
      "          0       0.62      0.94      0.74       313\n",
      "          1       0.83      0.38      0.53       195\n",
      "\n",
      "avg / total       0.73      0.68      0.65       670\n",
      "\n",
      "Classification report for train\n",
      "             precision    recall  f1-score   support\n",
      "\n",
      "         -1       0.82      0.52      0.64       162\n",
      "          0       0.62      0.94      0.74       313\n",
      "          1       0.83      0.38      0.53       195\n",
      "\n",
      "avg / total       0.73      0.68      0.65       670\n",
      "\n"
     ]
    }
   ],
   "source": [
    "# Preformance Metrics of Random Forest Model\n",
    "print 'Accuracy Score for train {:.2f}'.format(accuracy_score(y_true=dftrain_y, y_pred=rf.predict(dftrain1)))\n",
    "print 'Accuracy Score for test {:.2f}'.format(accuracy_score(y_true=dftest_y, y_pred=rf.predict(dftest1)))\n",
    "print 'Classification report for train'\n",
    "print classification_report(dftrain_y, rf.predict(dftrain1))\n",
    "print 'Classification report for train'\n",
    "print classification_report(y_true=dftrain_y, y_pred=rf.predict(dftrain1))"
   ]
  },
  {
   "cell_type": "code",
   "execution_count": 180,
   "metadata": {
    "collapsed": true
   },
   "outputs": [],
   "source": [
    "# Adaboost Model\n",
    "ada = AdaBoostClassifier(n_estimators=100, learning_rate=0.5).fit(dftrain1, dftrain_y)"
   ]
  },
  {
   "cell_type": "code",
   "execution_count": 181,
   "metadata": {},
   "outputs": [
    {
     "name": "stdout",
     "output_type": "stream",
     "text": [
      "Accuracy Score for train 0.61\n",
      "Accuracy Score for test 0.52\n",
      "Classification report for train\n",
      "             precision    recall  f1-score   support\n",
      "\n",
      "         -1       0.62      0.43      0.51       162\n",
      "          0       0.59      0.78      0.67       313\n",
      "          1       0.66      0.49      0.56       195\n",
      "\n",
      "avg / total       0.62      0.61      0.60       670\n",
      "\n",
      "Classification report for train\n",
      "             precision    recall  f1-score   support\n",
      "\n",
      "         -1       0.62      0.43      0.51       162\n",
      "          0       0.59      0.78      0.67       313\n",
      "          1       0.66      0.49      0.56       195\n",
      "\n",
      "avg / total       0.62      0.61      0.60       670\n",
      "\n"
     ]
    }
   ],
   "source": [
    "# Preformance Metrics of Adaboost Model\n",
    "print 'Accuracy Score for train {:.2f}'.format(accuracy_score(y_true=dftrain_y, y_pred=ada.predict(dftrain1)))\n",
    "print 'Accuracy Score for test {:.2f}'.format(accuracy_score(y_true=dftest_y, y_pred=ada.predict(dftest1)))\n",
    "print 'Classification report for train'\n",
    "print classification_report(dftrain_y, ada.predict(dftrain1))\n",
    "print 'Classification report for train'\n",
    "print classification_report(y_true=dftrain_y, y_pred=ada.predict(dftrain1))"
   ]
  },
  {
   "cell_type": "markdown",
   "metadata": {},
   "source": [
    "# Way Forward"
   ]
  },
  {
   "cell_type": "markdown",
   "metadata": {},
   "source": [
    ">1. Signal, Equity Curve and Maximum Draw Down can be plotted to understand the strategy returns\n",
    ">2. Model can be improved further, by using proper feature engineering and algorithm like Xgboost model"
   ]
  }
 ],
 "metadata": {
  "kernelspec": {
   "display_name": "Python 2",
   "language": "python",
   "name": "python2"
  },
  "language_info": {
   "codemirror_mode": {
    "name": "ipython",
    "version": 2
   },
   "file_extension": ".py",
   "mimetype": "text/x-python",
   "name": "python",
   "nbconvert_exporter": "python",
   "pygments_lexer": "ipython2",
   "version": "2.7.13"
  }
 },
 "nbformat": 4,
 "nbformat_minor": 2
}
