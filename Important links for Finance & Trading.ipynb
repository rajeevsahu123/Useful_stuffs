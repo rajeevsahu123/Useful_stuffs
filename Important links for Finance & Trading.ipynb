{
 "cells": [
  {
   "cell_type": "markdown",
   "metadata": {},
   "source": [
    "@ rajeev"
   ]
  },
  {
   "cell_type": "markdown",
   "metadata": {},
   "source": [
    "> - How to install Talib library in python [Technical indicators in python](https://www.linkedin.com/pulse/technical-indicators-python-abhishek-kulkarni/?lipi=urn%3Ali%3Apage%3Ad_flagship3_profile_view_base_post_details%3BzH47M8BxQ%2FOyGa9usmAZiw%3D%3D)\n",
    "\n",
    "> - [Tools for back-testing trading strategies](https://www.linkedin.com/pulse/tools-back-testing-trading-strategies-abhishek-kulkarni/?lipi=urn%3Ali%3Apage%3Ad_flagship3_profile_view_base_post_details%3BzH47M8BxQ%2FOyGa9usmAZiw%3D%3D)\n",
    "\n",
    "> - [Option-Expiration Week Effect- A trading strategy](https://www.linkedin.com/pulse/option-expiration-week-effect-trading-strategy-abhishek-kulkarni/?lipi=urn%3Ali%3Apage%3Ad_flagship3_profile_view_base_post_details%3BzH47M8BxQ%2FOyGa9usmAZiw%3D%3D)"
   ]
  },
  {
   "cell_type": "markdown",
   "metadata": {},
   "source": [
    "# How to install quantstrat in R\n",
    "\n",
    "---\n",
    "\n",
    "Please run these commands on R console\n",
    "``` R\n",
    "install.packages(\"devtools\")\n",
    "library(devtools)\n",
    "install_github(\"R-Finance/blotter\")\n",
    "install_github(\"R-Finance/quantstrat\")\n",
    "library(quantstrat)\n",
    "```\n",
    "In case you face any difficulty in installation, please follow the below [link](https://stackoverflow.com/questions/43602829/installing-blotter-and-quantstrat-on-github).\n",
    "And run the below commands in R console\n",
    "```R\n",
    "install.packages(\"devtools\")\n",
    "require(devtools)\n",
    "install_github(\"braverock/FinancialInstrument\")\n",
    "install_github(\"joshuaulrich/xts\")\n",
    "install_github(\"braverock/blotter\")\n",
    "install_github(\"braverock/quantstrat\")\n",
    "install_github(\"braverock/PerformanceAnalytics\")\n",
    "```"
   ]
  },
  {
   "cell_type": "markdown",
   "metadata": {},
   "source": [
    "# Important links for time series analysis\n",
    "---\n",
    "> - [Time Series Seasonal ARIMA model in python](http://www.seanabu.com/2016/03/22/time-series-seasonal-ARIMA-model-in-python/)\n",
    "\n",
    "\n",
    "> - [Lecture 17: Time Series from Harvard University](http://iacs-courses.seas.harvard.edu/courses/am207/blog/lecture-17.html)\n",
    "\n",
    "\n",
    "> - [Welcome to STAT 510 – Applied Time Series Analysis: Penn State](https://onlinecourses.science.psu.edu/stat510/node/33)\n",
    "\n",
    "\n",
    "> - [Cross-validation: Stackoverflow](https://stats.stackexchange.com/questions/101274/how-to-interpret-a-qq-plot)\n",
    "\n",
    "\n",
    "> - [Statsmodels](http://www.statsmodels.org/stable/tsa.html)\n",
    "\n",
    "\n",
    "> - [PDF1](http://www.joams.com/uploadfile/2015/0407/20150407040907791.pdf)\n",
    "\n",
    "\n",
    "> - [PDF2](https://pdfs.semanticscholar.org/9ec1/f14cb7d48ca50a18c66e69de5865c55686dd.pdf)"
   ]
  }
 ],
 "metadata": {
  "kernelspec": {
   "display_name": "Python 2",
   "language": "python",
   "name": "python2"
  },
  "language_info": {
   "codemirror_mode": {
    "name": "ipython",
    "version": 2
   },
   "file_extension": ".py",
   "mimetype": "text/x-python",
   "name": "python",
   "nbconvert_exporter": "python",
   "pygments_lexer": "ipython2",
   "version": "2.7.13"
  }
 },
 "nbformat": 4,
 "nbformat_minor": 2
}
