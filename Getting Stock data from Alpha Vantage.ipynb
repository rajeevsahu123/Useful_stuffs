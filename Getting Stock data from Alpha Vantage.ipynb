{
 "cells": [
  {
   "cell_type": "code",
   "execution_count": null,
   "metadata": {},
   "outputs": [],
   "source": [
    "import numpy as np\n",
    "import pandas as pd\n",
    "import matplotlib.pyplot as plt\n",
    "%pylab inline"
   ]
  },
  {
   "cell_type": "code",
   "execution_count": 1,
   "metadata": {},
   "outputs": [
    {
     "ename": "NameError",
     "evalue": "name 'pd' is not defined",
     "output_type": "error",
     "traceback": [
      "\u001b[1;31m---------------------------------------------------------------------------\u001b[0m",
      "\u001b[1;31mNameError\u001b[0m                                 Traceback (most recent call last)",
      "\u001b[1;32m<ipython-input-1-af72a5bb68fe>\u001b[0m in \u001b[0;36m<module>\u001b[1;34m()\u001b[0m\n\u001b[0;32m      1\u001b[0m \u001b[1;32mimport\u001b[0m \u001b[0mdatetime\u001b[0m\u001b[1;33m\u001b[0m\u001b[0m\n\u001b[1;32m----> 2\u001b[1;33m \u001b[0mpd\u001b[0m\u001b[1;33m.\u001b[0m\u001b[0mto_datetime\u001b[0m\u001b[1;33m(\u001b[0m\u001b[0mdatetime\u001b[0m\u001b[1;33m.\u001b[0m\u001b[0mdatetime\u001b[0m\u001b[1;33m.\u001b[0m\u001b[0mnow\u001b[0m\u001b[1;33m(\u001b[0m\u001b[1;33m)\u001b[0m\u001b[1;33m)\u001b[0m\u001b[1;33m\u001b[0m\u001b[0m\n\u001b[0m",
      "\u001b[1;31mNameError\u001b[0m: name 'pd' is not defined"
     ]
    }
   ],
   "source": [
    "import datetime\n",
    "pd.to_datetime(datetime.datetime.now())"
   ]
  },
  {
   "cell_type": "markdown",
   "metadata": {},
   "source": [
    "# To get the data from Alpha Vantage site"
   ]
  },
  {
   "cell_type": "code",
   "execution_count": 2,
   "metadata": {
    "collapsed": true
   },
   "outputs": [],
   "source": [
    "import requests\n",
    "import json\n",
    "\n",
    "function='TIME_SERIES_WEEKLY'\n",
    "symbol='MSFT' # Get symbols from yahoo finance\n",
    "apikey='demo' # Use your API key rather than 'demo' \n",
    "\n",
    "response = requests.get('https://www.alphavantage.co/query?function={}&symbol={}&apikey={}'.format(function, symbol, apikey))"
   ]
  },
  {
   "cell_type": "code",
   "execution_count": 3,
   "metadata": {
    "collapsed": true
   },
   "outputs": [],
   "source": [
    "result = response.json()"
   ]
  },
  {
   "cell_type": "code",
   "execution_count": 4,
   "metadata": {},
   "outputs": [
    {
     "data": {
      "text/plain": [
       "dict_keys(['Meta Data', 'Weekly Time Series'])"
      ]
     },
     "execution_count": 4,
     "metadata": {},
     "output_type": "execute_result"
    }
   ],
   "source": [
    "result.keys()"
   ]
  },
  {
   "cell_type": "code",
   "execution_count": 5,
   "metadata": {},
   "outputs": [
    {
     "data": {
      "text/plain": [
       "{'1. Information': 'Weekly Prices (open, high, low, close) and Volumes',\n",
       " '2. Symbol': 'MSFT',\n",
       " '3. Last Refreshed': '2018-04-19',\n",
       " '4. Time Zone': 'US/Eastern'}"
      ]
     },
     "execution_count": 5,
     "metadata": {},
     "output_type": "execute_result"
    }
   ],
   "source": [
    "result['Meta Data']"
   ]
  },
  {
   "cell_type": "code",
   "execution_count": 6,
   "metadata": {
    "collapsed": true
   },
   "outputs": [],
   "source": [
    "msft = pd.DataFrame(result['Weekly Time Series']).T"
   ]
  },
  {
   "cell_type": "code",
   "execution_count": 7,
   "metadata": {
    "collapsed": true
   },
   "outputs": [],
   "source": [
    "msft = msft.astype(float)\n",
    "msft = msft.dropna()\n",
    "msft = msft[msft['4. close'] != 0]"
   ]
  },
  {
   "cell_type": "code",
   "execution_count": 8,
   "metadata": {},
   "outputs": [
    {
     "data": {
      "text/html": [
       "<div>\n",
       "<style>\n",
       "    .dataframe thead tr:only-child th {\n",
       "        text-align: right;\n",
       "    }\n",
       "\n",
       "    .dataframe thead th {\n",
       "        text-align: left;\n",
       "    }\n",
       "\n",
       "    .dataframe tbody tr th {\n",
       "        vertical-align: top;\n",
       "    }\n",
       "</style>\n",
       "<table border=\"1\" class=\"dataframe\">\n",
       "  <thead>\n",
       "    <tr style=\"text-align: right;\">\n",
       "      <th></th>\n",
       "      <th>1. open</th>\n",
       "      <th>2. high</th>\n",
       "      <th>3. low</th>\n",
       "      <th>4. close</th>\n",
       "      <th>5. volume</th>\n",
       "    </tr>\n",
       "  </thead>\n",
       "  <tbody>\n",
       "    <tr>\n",
       "      <th>2000-01-14</th>\n",
       "      <td>113.44</td>\n",
       "      <td>114.25</td>\n",
       "      <td>101.50</td>\n",
       "      <td>112.25</td>\n",
       "      <td>157400000.0</td>\n",
       "    </tr>\n",
       "    <tr>\n",
       "      <th>2000-01-21</th>\n",
       "      <td>111.81</td>\n",
       "      <td>116.50</td>\n",
       "      <td>103.25</td>\n",
       "      <td>103.75</td>\n",
       "      <td>151908900.0</td>\n",
       "    </tr>\n",
       "    <tr>\n",
       "      <th>2000-01-28</th>\n",
       "      <td>103.80</td>\n",
       "      <td>105.69</td>\n",
       "      <td>97.25</td>\n",
       "      <td>98.25</td>\n",
       "      <td>147333000.0</td>\n",
       "    </tr>\n",
       "    <tr>\n",
       "      <th>2000-02-04</th>\n",
       "      <td>97.62</td>\n",
       "      <td>108.00</td>\n",
       "      <td>94.87</td>\n",
       "      <td>106.56</td>\n",
       "      <td>148928900.0</td>\n",
       "    </tr>\n",
       "    <tr>\n",
       "      <th>2000-02-11</th>\n",
       "      <td>106.81</td>\n",
       "      <td>110.00</td>\n",
       "      <td>99.12</td>\n",
       "      <td>99.94</td>\n",
       "      <td>160705800.0</td>\n",
       "    </tr>\n",
       "  </tbody>\n",
       "</table>\n",
       "</div>"
      ],
      "text/plain": [
       "            1. open  2. high  3. low  4. close    5. volume\n",
       "2000-01-14   113.44   114.25  101.50    112.25  157400000.0\n",
       "2000-01-21   111.81   116.50  103.25    103.75  151908900.0\n",
       "2000-01-28   103.80   105.69   97.25     98.25  147333000.0\n",
       "2000-02-04    97.62   108.00   94.87    106.56  148928900.0\n",
       "2000-02-11   106.81   110.00   99.12     99.94  160705800.0"
      ]
     },
     "execution_count": 8,
     "metadata": {},
     "output_type": "execute_result"
    }
   ],
   "source": [
    "msft.head()"
   ]
  },
  {
   "cell_type": "code",
   "execution_count": 9,
   "metadata": {},
   "outputs": [
    {
     "data": {
      "text/html": [
       "<div>\n",
       "<style>\n",
       "    .dataframe thead tr:only-child th {\n",
       "        text-align: right;\n",
       "    }\n",
       "\n",
       "    .dataframe thead th {\n",
       "        text-align: left;\n",
       "    }\n",
       "\n",
       "    .dataframe tbody tr th {\n",
       "        vertical-align: top;\n",
       "    }\n",
       "</style>\n",
       "<table border=\"1\" class=\"dataframe\">\n",
       "  <thead>\n",
       "    <tr style=\"text-align: right;\">\n",
       "      <th></th>\n",
       "      <th>1. open</th>\n",
       "      <th>2. high</th>\n",
       "      <th>3. low</th>\n",
       "      <th>4. close</th>\n",
       "      <th>5. volume</th>\n",
       "    </tr>\n",
       "  </thead>\n",
       "  <tbody>\n",
       "    <tr>\n",
       "      <th>2018-03-23</th>\n",
       "      <td>93.74</td>\n",
       "      <td>94.050</td>\n",
       "      <td>87.08</td>\n",
       "      <td>87.18</td>\n",
       "      <td>157031195.0</td>\n",
       "    </tr>\n",
       "    <tr>\n",
       "      <th>2018-03-29</th>\n",
       "      <td>90.61</td>\n",
       "      <td>95.139</td>\n",
       "      <td>88.40</td>\n",
       "      <td>91.27</td>\n",
       "      <td>207104405.0</td>\n",
       "    </tr>\n",
       "    <tr>\n",
       "      <th>2018-04-06</th>\n",
       "      <td>90.47</td>\n",
       "      <td>93.065</td>\n",
       "      <td>87.51</td>\n",
       "      <td>90.23</td>\n",
       "      <td>189087091.0</td>\n",
       "    </tr>\n",
       "    <tr>\n",
       "      <th>2018-04-13</th>\n",
       "      <td>91.04</td>\n",
       "      <td>94.180</td>\n",
       "      <td>90.62</td>\n",
       "      <td>93.08</td>\n",
       "      <td>133450878.0</td>\n",
       "    </tr>\n",
       "    <tr>\n",
       "      <th>2018-04-19</th>\n",
       "      <td>94.07</td>\n",
       "      <td>97.070</td>\n",
       "      <td>93.42</td>\n",
       "      <td>96.11</td>\n",
       "      <td>91642892.0</td>\n",
       "    </tr>\n",
       "  </tbody>\n",
       "</table>\n",
       "</div>"
      ],
      "text/plain": [
       "            1. open  2. high  3. low  4. close    5. volume\n",
       "2018-03-23    93.74   94.050   87.08     87.18  157031195.0\n",
       "2018-03-29    90.61   95.139   88.40     91.27  207104405.0\n",
       "2018-04-06    90.47   93.065   87.51     90.23  189087091.0\n",
       "2018-04-13    91.04   94.180   90.62     93.08  133450878.0\n",
       "2018-04-19    94.07   97.070   93.42     96.11   91642892.0"
      ]
     },
     "execution_count": 9,
     "metadata": {},
     "output_type": "execute_result"
    }
   ],
   "source": [
    "msft.tail()"
   ]
  },
  {
   "cell_type": "code",
   "execution_count": 10,
   "metadata": {},
   "outputs": [
    {
     "data": {
      "text/html": [
       "<div>\n",
       "<style>\n",
       "    .dataframe thead tr:only-child th {\n",
       "        text-align: right;\n",
       "    }\n",
       "\n",
       "    .dataframe thead th {\n",
       "        text-align: left;\n",
       "    }\n",
       "\n",
       "    .dataframe tbody tr th {\n",
       "        vertical-align: top;\n",
       "    }\n",
       "</style>\n",
       "<table border=\"1\" class=\"dataframe\">\n",
       "  <thead>\n",
       "    <tr style=\"text-align: right;\">\n",
       "      <th></th>\n",
       "      <th>1. open</th>\n",
       "      <th>2. high</th>\n",
       "      <th>3. low</th>\n",
       "      <th>4. close</th>\n",
       "      <th>5. volume</th>\n",
       "    </tr>\n",
       "  </thead>\n",
       "  <tbody>\n",
       "    <tr>\n",
       "      <th>count</th>\n",
       "      <td>954.000000</td>\n",
       "      <td>954.000000</td>\n",
       "      <td>954.000000</td>\n",
       "      <td>954.000000</td>\n",
       "      <td>9.540000e+02</td>\n",
       "    </tr>\n",
       "    <tr>\n",
       "      <th>mean</th>\n",
       "      <td>40.405656</td>\n",
       "      <td>41.552214</td>\n",
       "      <td>39.306412</td>\n",
       "      <td>40.457346</td>\n",
       "      <td>2.470593e+08</td>\n",
       "    </tr>\n",
       "    <tr>\n",
       "      <th>std</th>\n",
       "      <td>18.759618</td>\n",
       "      <td>19.413272</td>\n",
       "      <td>18.041585</td>\n",
       "      <td>18.775087</td>\n",
       "      <td>1.134614e+08</td>\n",
       "    </tr>\n",
       "    <tr>\n",
       "      <th>min</th>\n",
       "      <td>15.200000</td>\n",
       "      <td>16.400000</td>\n",
       "      <td>14.870000</td>\n",
       "      <td>15.280000</td>\n",
       "      <td>4.223590e+07</td>\n",
       "    </tr>\n",
       "    <tr>\n",
       "      <th>25%</th>\n",
       "      <td>26.725000</td>\n",
       "      <td>27.242500</td>\n",
       "      <td>26.100000</td>\n",
       "      <td>26.660000</td>\n",
       "      <td>1.624329e+08</td>\n",
       "    </tr>\n",
       "    <tr>\n",
       "      <th>50%</th>\n",
       "      <td>30.325050</td>\n",
       "      <td>31.000000</td>\n",
       "      <td>29.755000</td>\n",
       "      <td>30.434900</td>\n",
       "      <td>2.327805e+08</td>\n",
       "    </tr>\n",
       "    <tr>\n",
       "      <th>75%</th>\n",
       "      <td>52.815000</td>\n",
       "      <td>54.892500</td>\n",
       "      <td>50.895000</td>\n",
       "      <td>52.800000</td>\n",
       "      <td>3.089965e+08</td>\n",
       "    </tr>\n",
       "    <tr>\n",
       "      <th>max</th>\n",
       "      <td>113.440000</td>\n",
       "      <td>116.500000</td>\n",
       "      <td>103.250000</td>\n",
       "      <td>112.250000</td>\n",
       "      <td>8.797232e+08</td>\n",
       "    </tr>\n",
       "  </tbody>\n",
       "</table>\n",
       "</div>"
      ],
      "text/plain": [
       "          1. open     2. high      3. low    4. close     5. volume\n",
       "count  954.000000  954.000000  954.000000  954.000000  9.540000e+02\n",
       "mean    40.405656   41.552214   39.306412   40.457346  2.470593e+08\n",
       "std     18.759618   19.413272   18.041585   18.775087  1.134614e+08\n",
       "min     15.200000   16.400000   14.870000   15.280000  4.223590e+07\n",
       "25%     26.725000   27.242500   26.100000   26.660000  1.624329e+08\n",
       "50%     30.325050   31.000000   29.755000   30.434900  2.327805e+08\n",
       "75%     52.815000   54.892500   50.895000   52.800000  3.089965e+08\n",
       "max    113.440000  116.500000  103.250000  112.250000  8.797232e+08"
      ]
     },
     "execution_count": 10,
     "metadata": {},
     "output_type": "execute_result"
    }
   ],
   "source": [
    "msft.describe()"
   ]
  },
  {
   "cell_type": "code",
   "execution_count": 11,
   "metadata": {},
   "outputs": [
    {
     "data": {
      "text/plain": [
       "<matplotlib.axes._subplots.AxesSubplot at 0x1c04f7312e8>"
      ]
     },
     "execution_count": 11,
     "metadata": {},
     "output_type": "execute_result"
    },
    {
     "data": {
      "image/png": "[encoded data removed]",
      "text/plain": [
       "<matplotlib.figure.Figure at 0x1c04f720128>"
      ]
     },
     "metadata": {},
     "output_type": "display_data"
    }
   ],
   "source": [
    "msft['4. close'].plot()"
   ]
  },
  {
   "cell_type": "code",
   "execution_count": null,
   "metadata": {
    "collapsed": true
   },
   "outputs": [],
   "source": []
  }
 ],
 "metadata": {
  "kernelspec": {
   "display_name": "Python 3",
   "language": "python",
   "name": "python3"
  }
 },
 "nbformat": 4,
 "nbformat_minor": 2
}
